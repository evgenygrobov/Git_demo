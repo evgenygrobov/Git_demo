{
  "nbformat": 4,
  "nbformat_minor": 0,
  "metadata": {
    "colab": {
      "name": "Maximum Likelihood .ipynb",
      "provenance": [],
      "authorship_tag": "ABX9TyPtLCLNfCHue1QlYwH/QR79",
      "include_colab_link": true
    },
    "kernelspec": {
      "name": "python3",
      "display_name": "Python 3"
    }
  },
  "cells": [
    {
      "cell_type": "markdown",
      "metadata": {
        "id": "view-in-github",
        "colab_type": "text"
      },
      "source": [
        "<a href=\"https://colab.research.google.com/github/evgenygrobov/Git_demo/blob/main/Maximum_Likelihood_.ipynb\" target=\"_parent\"><img src=\"https://colab.research.google.com/assets/colab-badge.svg\" alt=\"Open In Colab\"/></a>"
      ]
    },
    {
      "cell_type": "code",
      "metadata": {
        "id": "VAVmQdlE3Esm",
        "outputId": "efd192e4-ce43-40ad-9376-6940f9a97f5b",
        "colab": {
          "base_uri": "https://localhost:8080/",
          "height": 55
        }
      },
      "source": [
        "import pandas as pd\n",
        "\n",
        "df = pd.DataFrame({'A': [1, 2, 3, 4, 5], 'B': [6, 3, 3, 1, 2], 'C': [7, 9, 1, 2, 2]})\n",
        "df.iloc[:, 1].values\n",
        "#df['B'].values"
      ],
      "execution_count": 15,
      "outputs": [
        {
          "output_type": "execute_result",
          "data": {
            "text/plain": [
              "array([6, 3, 3, 1, 2])"
            ]
          },
          "metadata": {
            "tags": []
          },
          "execution_count": 15
        }
      ]
    },
    {
      "cell_type": "code",
      "metadata": {
        "id": "_WJSG3T15-OH"
      },
      "source": [
        "import numpy as np\n",
        "import scipy.stats as stats\n",
        "draw=np.random.choice(range(1,12), 2)\n",
        "from random import choice"
      ],
      "execution_count": 63,
      "outputs": []
    },
    {
      "cell_type": "code",
      "metadata": {
        "id": "IDoJdEycbup6"
      },
      "source": [
        "def flip_coin(n, p) -> np.array:\n",
        "    return stats.binom.rvs(n=1,p=p,size=n)\n"
      ],
      "execution_count": 101,
      "outputs": []
    },
    {
      "cell_type": "code",
      "metadata": {
        "id": "E5lksCYDWsCQ",
        "outputId": "eb03c46b-6745-48ce-8a40-c35cd062c6ff",
        "colab": {
          "base_uri": "https://localhost:8080/",
          "height": 55
        }
      },
      "source": [
        "flip_coin(20,0.8)"
      ],
      "execution_count": 99,
      "outputs": [
        {
          "output_type": "execute_result",
          "data": {
            "text/plain": [
              "array([2, 0, 1, 2, 2, 1, 2, 2, 2, 1, 1, 1, 1, 2, 1, 1, 2, 2, 2, 2])"
            ]
          },
          "metadata": {
            "tags": []
          },
          "execution_count": 99
        }
      ]
    },
    {
      "cell_type": "code",
      "metadata": {
        "id": "450btmsyeeGe"
      },
      "source": [
        "def coin_log_likelihood(p, flips):\n",
        "    \"\"\"Return the log-likelihood of a parameter p given a sequence of coin flips.\n",
        "    \"\"\"\n",
        "    return np.sum(np.log(np.array([1 - p, p])[flips]))"
      ],
      "execution_count": 95,
      "outputs": []
    },
    {
      "cell_type": "code",
      "metadata": {
        "id": "1ROoTmsAf7-m",
        "outputId": "646b6b98-01b8-41ff-a09c-bfdfc5d93c59",
        "colab": {
          "base_uri": "https://localhost:8080/",
          "height": 55
        }
      },
      "source": [
        "flip_data = np.array([1, 0, 0, 0, 1, 1, 0, 0, 0, 0])\n",
        "coin_log_likelihood(p=0.25, flips=flip_data)"
      ],
      "execution_count": 96,
      "outputs": [
        {
          "output_type": "execute_result",
          "data": {
            "text/plain": [
              "-6.172657590522138"
            ]
          },
          "metadata": {
            "tags": []
          },
          "execution_count": 96
        }
      ]
    },
    {
      "cell_type": "code",
      "metadata": {
        "id": "vmVPSAmrhHsF",
        "outputId": "e605f3ad-0c35-4ebf-9c8f-8cb15a0bb6b6",
        "colab": {
          "base_uri": "https://localhost:8080/",
          "height": 55
        }
      },
      "source": [
        "coin_log_likelihood(p=0.5, flips=flip_data)"
      ],
      "execution_count": 97,
      "outputs": [
        {
          "output_type": "execute_result",
          "data": {
            "text/plain": [
              "-6.931471805599453"
            ]
          },
          "metadata": {
            "tags": []
          },
          "execution_count": 97
        }
      ]
    },
    {
      "cell_type": "code",
      "metadata": {
        "id": "bq3-TvbGhtHS"
      },
      "source": [
        "%matplotlib inline\n",
        "import matplotlib\n",
        "import matplotlib.pyplot as plt\n",
        "\n",
        "def plot_coin_likelihood(ax: matplotlib.axes.Axes, \n",
        "                         ps: np.array,\n",
        "                         data: np.array) -> None:\n",
        "    xs = np.arange(len(ps))\n",
        "    xlabels = [str(p) for p in ps]\n",
        "    likelihoods = [coin_log_likelihood(p=p, flips=data) \n",
        "                   for p in ps]\n",
        "    ax.bar(xs, likelihoods, align='center', alpha=0.5)\n",
        "    ax.set_xticks(xs)\n",
        "    ax.set_xticklabels(xlabels)\n",
        "    ax.set_xlabel(\"$p$\")\n",
        "    ax.set_ylabel(\"Binomial Likelihood\")\n",
        "    ax.set_title(\",\".join(np.array(['T', 'H'])[data]))"
      ],
      "execution_count": 103,
      "outputs": []
    },
    {
      "cell_type": "code",
      "metadata": {
        "id": "GO9Vb_lrh6tS"
      },
      "source": [
        "probabilities = [0.25, 0.5]\n"
      ],
      "execution_count": 104,
      "outputs": []
    },
    {
      "cell_type": "code",
      "metadata": {
        "id": "nTJ1MIZpiPoE",
        "outputId": "0e461b90-1276-411a-b6b9-f4a8d63a90fd",
        "colab": {
          "base_uri": "https://localhost:8080/",
          "height": 317
        }
      },
      "source": [
        "fig, ax = plt.subplots(figsize=(6, 4))\n",
        "\n",
        "plot_coin_likelihood(ax, ps=probabilities, data=flip_data)"
      ],
      "execution_count": 105,
      "outputs": [
        {
          "output_type": "display_data",
          "data": {
            "image/png": "[encoded data removed]",
            "text/plain": [
              "<Figure size 432x288 with 1 Axes>"
            ]
          },
          "metadata": {
            "tags": [],
            "needs_background": "light"
          }
        }
      ]
    },
    {
      "cell_type": "code",
      "metadata": {
        "id": "GdpAYripjiJZ",
        "outputId": "cfdbf214-0bea-435c-e69b-14036f7d4c12",
        "colab": {
          "base_uri": "https://localhost:8080/",
          "height": 461
        }
      },
      "source": [
        "fig, axs = plt.subplots(2, 5, figsize=(14, 6))\n",
        "\n",
        "for idx, ax in enumerate(axs.flatten(), start=1):\n",
        "    plot_coin_likelihood(ax, data=flip_data[:idx], ps=probabilities)\n",
        "fig.tight_layout()"
      ],
      "execution_count": 106,
      "outputs": [
        {
          "output_type": "display_data",
          "data": {
            "image/png": "[encoded data removed]",
            "text/plain": [
              "<Figure size 1008x432 with 10 Axes>"
            ]
          },
          "metadata": {
            "tags": [],
            "needs_background": "light"
          }
        }
      ]
    },
    {
      "cell_type": "code",
      "metadata": {
        "id": "krrN68MYkHxp"
      },
      "source": [
        "probabilities = [0.1, 0.25, 0.5, 0.75, 0.9]"
      ],
      "execution_count": 107,
      "outputs": []
    },
    {
      "cell_type": "code",
      "metadata": {
        "id": "DB5rEDxukNHf",
        "outputId": "48aeb892-bc2b-4e98-90fe-9e73f85cf18c",
        "colab": {
          "base_uri": "https://localhost:8080/",
          "height": 461
        }
      },
      "source": [
        "fig, axs = plt.subplots(2, 5, figsize=(14, 6))\n",
        "\n",
        "for idx, ax in enumerate(axs.flatten(), start=1):\n",
        "    plot_coin_likelihood(ax, data=flip_data[:idx], ps=probabilities)\n",
        "    ax.set_title(\",\".join(np.array(['T', 'H'])[flip_data[:idx]]))\n",
        "fig.tight_layout()"
      ],
      "execution_count": 108,
      "outputs": [
        {
          "output_type": "display_data",
          "data": {
            "image/png": "[encoded data removed]",
            "text/plain": [
              "<Figure size 1008x432 with 10 Axes>"
            ]
          },
          "metadata": {
            "tags": [],
            "needs_background": "light"
          }
        }
      ]
    }
  ]
}